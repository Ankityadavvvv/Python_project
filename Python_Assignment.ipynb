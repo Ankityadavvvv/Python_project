{
  "nbformat": 4,
  "nbformat_minor": 0,
  "metadata": {
    "colab": {
      "provenance": [],
      "authorship_tag": "ABX9TyMk3r74uO8vevtbcp/JyJM4",
      "include_colab_link": true
    },
    "kernelspec": {
      "name": "python3",
      "display_name": "Python 3"
    },
    "language_info": {
      "name": "python"
    }
  },
  "cells": [
    {
      "cell_type": "markdown",
      "metadata": {
        "id": "view-in-github",
        "colab_type": "text"
      },
      "source": [
        "<a href=\"https://colab.research.google.com/github/Ankityadavvvv/python_project/blob/main/Python_Assignment.ipynb\" target=\"_parent\"><img src=\"https://colab.research.google.com/assets/colab-badge.svg\" alt=\"Open In Colab\"/></a>"
      ]
    },
    {
      "cell_type": "markdown",
      "source": [
        "**Task 1**: Calculate Area with Conditions\n",
        "Write a Python function calculate_area that takes two parameters: length and width. It\n",
        "should calculate and return the area of a rectangle. However, add a condition: if the length\n",
        "is equal to the width, return \"This is a square!\" instead of the area. Then, write a program to\n",
        "input values for length and width from the user and call the calculate_area function to display either the area or the message."
      ],
      "metadata": {
        "id": "SD9jZPFcmn3I"
      }
    },
    {
      "cell_type": "code",
      "execution_count": null,
      "metadata": {
        "id": "rlyekEULmXfU"
      },
      "outputs": [],
      "source": [
        "def calculate_area(length, width):\n",
        "    if length == width:\n",
        "        return \"This is a square!\"\n",
        "    else:\n",
        "        return length * width\n",
        "\n",
        "def main():\n",
        "    length = float(input(\"Enter the length: \"))\n",
        "    width = float(input(\"Enter the width: \"))\n",
        "\n",
        "    result = calculate_area(length, width)\n",
        "    print(result)\n",
        "\n",
        "if __name__ == \"__main__\":\n",
        "    main()"
      ]
    },
    {
      "cell_type": "markdown",
      "source": [
        "**Explanation**\n",
        "\n",
        "- The calculate_area function checks if the length is equal to the width. If they are equal, it returns the message \"This is a square!\" Otherwise, it calculates and returns the area.\n",
        "\n",
        "- In the main function, we take user input for the length and width of the rectangle.\n",
        "\n",
        "- We call the calculate_area function with the user-provided values and store the result in the result variable."
      ],
      "metadata": {
        "id": "oiBUrzExngLM"
      }
    },
    {
      "cell_type": "markdown",
      "source": [
        "**Task 2**: Generate Fibonacci Series\n",
        "Problem Statement:\n",
        "Write a Python program that generates the Fibonacci sequence up to a specified number of\n",
        "terms, n. The Fibonacci sequence starts with 0 and 1, and each subsequent number in the\n",
        "sequence is the sum of the two preceding numbers (e.g., 0, 1, 1, 2, 3, 5, 8, ...). Prompt the\n",
        "user to enter the number of terms (n) they want in the sequence and then display the\n",
        "Fibonacci sequence up to that number of terms."
      ],
      "metadata": {
        "id": "aIxmaLuXpP_W"
      }
    },
    {
      "cell_type": "code",
      "source": [
        "# Prompt the user for the number of terms\n",
        "n = int(input(\"Enter the number of Fibonacci terms: \"))\n",
        "\n",
        "# Initialize the first two Fibonacci numbers\n",
        "a, b = 0, 1\n",
        "\n",
        "# Initialize a list to store the Fibonacci sequence\n",
        "fibonacci_sequence = []\n",
        "\n",
        "# Generate and display the Fibonacci sequence\n",
        "while len(fibonacci_sequence) < n:\n",
        "    fibonacci_sequence.append(a)\n",
        "    a, b = b, a + b\n",
        "\n",
        "print(\"Fibonacci Sequence up to\", n, \"terms:\")\n",
        "print(fibonacci_sequence)\n"
      ],
      "metadata": {
        "id": "6FEsO89YoLys"
      },
      "execution_count": null,
      "outputs": []
    },
    {
      "cell_type": "markdown",
      "source": [
        "**Task 3**: MySQL Database Operations with Python\n",
        "Problem Statement:\n",
        "Your task is to write a Python program that accomplishes the following:\n",
        "First create a database , table and add these column ‘student_id’, ‘first_name’, ‘last_name’,\n",
        "‘age’, ‘grade’.\n",
        "Connects to your MySQL database with python.\n",
        "Inserts a new student record into the \"students\" table with the following details:\n",
        "First Name: \"Alice\"\n",
        "Last Name: \"Smith\"\n",
        "Age: 18\n",
        "Grade: 95.5\n",
        "Updates the grade of the student with the first name \"Alice\" to 97.0.\n",
        "Deletes the student with the last name \"Smith.\"\n",
        "Fetches and displays all student records from the \"students\" table."
      ],
      "metadata": {
        "id": "pb3leYaEptGi"
      }
    },
    {
      "cell_type": "code",
      "source": [
        "!pip install mysql-connector-python\n",
        "\n",
        "import mysql.connector\n",
        "\n",
        "# Define database connection details\n",
        "host = \"your_host\"\n",
        "user = \"your_username\"\n",
        "password = \"your_password\"\n",
        "database = \"your_database\"\n",
        "\n",
        "try:\n",
        "    # Establish a database connection\n",
        "    connection = mysql.connector.connect(\n",
        "        host=host,\n",
        "        user=user,\n",
        "        password=password,\n",
        "        database=database\n",
        "    )\n",
        "\n",
        "    if connection.is_connected():\n",
        "        print(\"Connected to MySQL database\")\n",
        "\n",
        "        # Create a cursor object\n",
        "        cursor = connection.cursor()\n",
        "\n",
        "        # Create the \"students\" table if it doesn't exist\n",
        "        create_table_query = \"\"\"\n",
        "        CREATE TABLE IF NOT EXISTS students (\n",
        "            student_id INT AUTO_INCREMENT PRIMARY KEY,\n",
        "            first_name VARCHAR(255),\n",
        "            last_name VARCHAR(255),\n",
        "            age INT,\n",
        "            grade FLOAT\n",
        "        )\n",
        "        \"\"\"\n",
        "        cursor.execute(create_table_query)\n",
        "\n",
        "        # Insert a new student record\n",
        "        insert_query = \"\"\"\n",
        "        INSERT INTO students (first_name, last_name, age, grade)\n",
        "        VALUES (%s, %s, %s, %s)\n",
        "        \"\"\"\n",
        "        student_data = (\"Alice\", \"Smith\", 18, 95.5)\n",
        "        cursor.execute(insert_query, student_data)\n",
        "\n",
        "        # Commit the transaction\n",
        "        connection.commit()\n",
        "\n",
        "        # Update Alice's grade\n",
        "        update_query = \"\"\"\n",
        "        UPDATE students\n",
        "        SET grade = %s\n",
        "        WHERE first_name = %s\n",
        "        \"\"\"\n",
        "        new_grade = 97.0\n",
        "        cursor.execute(update_query, (new_grade, \"Alice\"))\n",
        "\n",
        "        # Commit the transaction\n",
        "        connection.commit()\n",
        "\n",
        "        # Delete the student with last name \"Smith\"\n",
        "        delete_query = \"\"\"\n",
        "        DELETE FROM students\n",
        "        WHERE last_name = %s\n",
        "        \"\"\"\n",
        "        last_name_to_delete = \"Smith\"\n",
        "        cursor.execute(delete_query, (last_name_to_delete,))\n",
        "\n",
        "        # Commit the transaction\n",
        "        connection.commit()\n",
        "\n",
        "        # Fetch and display all student records\n",
        "        select_query = \"SELECT * FROM students\"\n",
        "        cursor.execute(select_query)\n",
        "\n",
        "        print(\"Student Records:\")\n",
        "        for student in cursor.fetchall():\n",
        "            print(student)\n",
        "\n",
        "except mysql.connector.Error as error:\n",
        "    print(\"Error:\", error)\n",
        "\n",
        "finally:\n",
        "    if 'connection' in locals() and connection.is_connected():\n",
        "        cursor.close()\n",
        "        connection.close()\n",
        "        print(\"Database connection closed\")\n"
      ],
      "metadata": {
        "id": "OpuNh7rUpzgX"
      },
      "execution_count": null,
      "outputs": []
    },
    {
      "cell_type": "markdown",
      "source": [
        "**Explanation**\n",
        "- The code establishes a connection to the MySQL database using the provided connection details (replace \"your_host\", \"your_username\", \"your_password\", and \"your_database\" with your own).\n",
        "\n",
        "- It creates a cursor object to interact with the database.\n",
        "\n",
        "- If the \"students\" table does not exist, it creates the table with the specified columns: student_id, first_name, last_name, age, and grade.\n",
        "\n",
        "- It inserts a new student record for Alice with the values provided.\n",
        "\n",
        "- It updates Alice's grade to 97.0.\n",
        "\n",
        "- It deletes the student with the last name \"Smith.\"\n",
        "\n",
        "- Finally, it fetches and displays all student records from the \"students\" table"
      ],
      "metadata": {
        "id": "TFXKw5iGqRiC"
      }
    }
  ]
}